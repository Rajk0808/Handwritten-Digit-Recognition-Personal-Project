{
 "cells": [
  {
   "cell_type": "markdown",
   "id": "09d1dd2d-7adc-41fc-a032-c12ec16b4512",
   "metadata": {},
   "source": [
    "# Exercises\n",
    "### 0. Taking note of time\n",
    "\n",
    "It is useful to take note of the time it takes the algorithm to train. This will provide you with an additional level of understanding. \n",
    "\n",
    "**Solution**\n",
    "\n",
    "To calculate the time it takes to train the algorithm you need to add these lines of code to your algorithm:\n",
    "\n",
    "Before the epoch loop:\n",
    "\n",
    "    import time\n",
    "    \n",
    "    start_time = time.time()\n",
    "\n",
    "After the epoch loop:\n",
    "\n",
    "    print(\"Training time: %s seconds\" % (time.time() - start_time))\n",
    "    \n",
    "    \n",
    "We will add this line of code to all future exercises.\n"
   ]
  },
  {
   "cell_type": "markdown",
   "id": "9e4d783c-1267-40e3-ab33-f795f685a35e",
   "metadata": {},
   "source": [
    "## Deep Neural Network for MNIST Classification\n",
    "\n",
    "We'll apply all the knowledge from the lectures in this section to write a deep neural network. The problem we've chosen is referred to as the \"Hello World\" for machine learning because for most students it is their first example. The dataset is called MNIST and refers to handwritten digit recognition. You can find more about it on Yann LeCun's website (Director of AI Research, Facebook). He is one of the pioneers of what we've been talking about and of more complex approaches that are widely used today, such as covolutional networks. The dataset provides 28x28 images of handwritten digits (1 per image) and the goal is to write an algorithm that detects which digit is written. Since there are only 10 digits, this is a classification problem with 10 classes. In order to exemplify what we've talked about in this section, we will build a network with 2 hidden layers between inputs and outputs."
   ]
  },
  {
   "cell_type": "markdown",
   "id": "1794d73a-9365-45da-92dc-853319bd10af",
   "metadata": {},
   "source": [
    "## Import the relevant packages"
   ]
  },
  {
   "cell_type": "code",
   "execution_count": 10,
   "id": "27565238-f256-44f0-bf96-e195c6bda2bc",
   "metadata": {},
   "outputs": [],
   "source": [
    "import tensorflow as tf\n",
    "import numpy as np\n",
    "import tensorflow_datasets as tfds"
   ]
  },
  {
   "cell_type": "markdown",
   "id": "83556375-0430-453a-86a1-98b9e9f4da36",
   "metadata": {},
   "source": [
    "### Importing data set"
   ]
  },
  {
   "cell_type": "code",
   "execution_count": 28,
   "id": "13803445-80dc-47cf-9a3c-9392b3a47cc6",
   "metadata": {},
   "outputs": [],
   "source": [
    "mnist_dataset,mnist_inf = tfds.load(name='mnist' , with_info = True, as_supervised = True)"
   ]
  },
  {
   "cell_type": "code",
   "execution_count": 31,
   "id": "f270c9a1-904a-4d63-817a-489154973537",
   "metadata": {},
   "outputs": [],
   "source": [
    "mnist_train , mnist_test = mnist_dataset['train'] , mnist_dataset['test']"
   ]
  },
  {
   "cell_type": "code",
   "execution_count": 44,
   "id": "7d585997-1c86-4771-b271-952ced56d316",
   "metadata": {},
   "outputs": [
    {
     "name": "stdout",
     "output_type": "stream",
     "text": [
      "tf.Tensor(10000, shape=(), dtype=int64)\n"
     ]
    }
   ],
   "source": [
    "num_validation_samples = 0.1*mnist_info.splits['train'].num_examples\n",
    "num_validation_samples = tf.cast(num_validation_samples , tf.int64)\n",
    "\n",
    "num_test_samples = mnist_info.splits['test'].num_examples\n",
    "num_test_samples = tf.cast(num_test_samples , tf.int64)\n"
   ]
  },
  {
   "cell_type": "code",
   "execution_count": 47,
   "id": "d555e4cd-b366-4949-907e-3f7828b70c2a",
   "metadata": {},
   "outputs": [],
   "source": [
    "def scale(image, label):\n",
    "    image = tf.cast(image,tf.float32)\n",
    "    image/=255\n",
    "    return image , label"
   ]
  },
  {
   "cell_type": "code",
   "execution_count": 50,
   "id": "9d55cb18-4f0d-4532-88f7-5163a93418f9",
   "metadata": {},
   "outputs": [],
   "source": [
    "scaled_train_and_validation_data = mnist_train.map(scale)\n",
    "\n",
    "test_data = mnist_test.map(scale)"
   ]
  },
  {
   "cell_type": "markdown",
   "id": "0793394f-3988-415a-82ac-e401a28bd22e",
   "metadata": {},
   "source": [
    "## Batching"
   ]
  },
  {
   "cell_type": "code",
   "execution_count": 61,
   "id": "7adc3ba9-ed20-488a-aaf9-ddabe9e75bf0",
   "metadata": {},
   "outputs": [],
   "source": [
    "buffer_size = 10000\n",
    "\n",
    "shuffled_train_and_validation_data = scaled_train_and_validation_data.shuffle(buffer_size)\n"
   ]
  },
  {
   "cell_type": "code",
   "execution_count": 62,
   "id": "0fe0beb4-d8cf-4526-a127-e07cf3f6b411",
   "metadata": {},
   "outputs": [],
   "source": [
    "validation_data = shuffled_train_and_validation_data.take(num_validation_samples) \n",
    "train_data = shuffled_train_and_validation_data.skip(num_validation_samples)"
   ]
  },
  {
   "cell_type": "code",
   "execution_count": null,
   "id": "0c770c56-3644-4b70-872a-72b9900b7914",
   "metadata": {},
   "outputs": [],
   "source": [
    "batch_size = 100"
   ]
  },
  {
   "cell_type": "code",
   "execution_count": 63,
   "id": "fb518fa3-32d0-4aba-b007-349b38e03254",
   "metadata": {},
   "outputs": [],
   "source": [
    "# train\n",
    "train_data = train_data.batch(batch_size)\n",
    "\n",
    "#validation\n",
    "validation_data = validation_data.batch(batch_size)\n",
    "\n",
    "#test\n",
    "test_data = test_data.batch(batch_size)"
   ]
  },
  {
   "cell_type": "code",
   "execution_count": 64,
   "id": "907e3dff-7217-4743-bfc3-57548dfe7e57",
   "metadata": {},
   "outputs": [],
   "source": [
    "validation_inputs , validation_targets = next(iter(validation_data))"
   ]
  },
  {
   "cell_type": "markdown",
   "id": "ec24eb6f-1613-47c3-a474-abab28e0651f",
   "metadata": {},
   "source": [
    "# Model"
   ]
  },
  {
   "cell_type": "markdown",
   "id": "68b2bcb6-ce11-48be-b226-7c1a34a2e89c",
   "metadata": {},
   "source": [
    "## outline"
   ]
  },
  {
   "cell_type": "code",
   "execution_count": 79,
   "id": "24776703-6177-45aa-9491-764962504155",
   "metadata": {},
   "outputs": [],
   "source": [
    "input_size = 784\n",
    "output_size = 10\n",
    "hidden_layer_size = 100"
   ]
  },
  {
   "cell_type": "code",
   "execution_count": 80,
   "id": "0284ef8f-5063-42e7-b5bd-700d0772e99d",
   "metadata": {},
   "outputs": [],
   "source": [
    "model = tf.keras.Sequential([\n",
    "\n",
    "    tf.keras.layers.Flatten(input_shape = (28,28,1)),\n",
    "    tf.keras.layers.Dense(hidden_layer_size , activation = 'relu'),\n",
    "    tf.keras.layers.Dense(hidden_layer_size , activation = 'relu'),\n",
    "    tf.keras.layers.Dense(output_size, activation = 'softmax')\n",
    "])"
   ]
  },
  {
   "cell_type": "markdown",
   "id": "e85a5213-08ee-41e7-8633-dbe279446fad",
   "metadata": {},
   "source": [
    "### Choose the Optimizer"
   ]
  },
  {
   "cell_type": "code",
   "execution_count": 81,
   "id": "228eb9b3-0f32-4e08-b5c5-b89de33eb8ec",
   "metadata": {},
   "outputs": [],
   "source": [
    "model.compile(optimizer='adam', loss='sparse_categorical_crossentropy', metrics=['accuracy'])"
   ]
  },
  {
   "cell_type": "markdown",
   "id": "d55a96e2-9896-4654-ab2e-4de1dfa19720",
   "metadata": {},
   "source": [
    "### Training the dataset"
   ]
  },
  {
   "cell_type": "code",
   "execution_count": 85,
   "id": "c8525738-2c19-47f8-82f7-0ea45688ce27",
   "metadata": {},
   "outputs": [
    {
     "name": "stdout",
     "output_type": "stream",
     "text": [
      "Epoch 1/5\n",
      "6/6 - 1s - 156ms/step - accuracy: 0.9714 - loss: 0.1010 - val_accuracy: 0.9682 - val_loss: 0.1056\n",
      "Epoch 2/5\n",
      "6/6 - 1s - 143ms/step - accuracy: 0.9721 - loss: 0.0978 - val_accuracy: 0.9692 - val_loss: 0.1035\n",
      "Epoch 3/5\n",
      "6/6 - 1s - 146ms/step - accuracy: 0.9731 - loss: 0.0956 - val_accuracy: 0.9710 - val_loss: 0.1015\n",
      "Epoch 4/5\n",
      "6/6 - 1s - 146ms/step - accuracy: 0.9738 - loss: 0.0933 - val_accuracy: 0.9695 - val_loss: 0.0990\n",
      "Epoch 5/5\n",
      "6/6 - 1s - 147ms/step - accuracy: 0.9746 - loss: 0.0903 - val_accuracy: 0.9702 - val_loss: 0.0961\n"
     ]
    },
    {
     "data": {
      "text/plain": [
       "<keras.src.callbacks.history.History at 0x20a14dab640>"
      ]
     },
     "execution_count": 85,
     "metadata": {},
     "output_type": "execute_result"
    }
   ],
   "source": [
    "num_epochs = 5\n",
    "\n",
    "model.fit(train_data, epochs = num_epochs, validation_data = (validation_inputs , validation_targets), verbose = 2)"
   ]
  },
  {
   "cell_type": "markdown",
   "id": "3cd5b8af-bb03-44a6-8d85-f83f749e7ed0",
   "metadata": {},
   "source": [
    "# Test Model"
   ]
  },
  {
   "cell_type": "code",
   "execution_count": 86,
   "id": "a41c9edc-4d56-4c03-92fa-781f7b63cf8f",
   "metadata": {},
   "outputs": [
    {
     "name": "stdout",
     "output_type": "stream",
     "text": [
      "\u001b[1m1/1\u001b[0m \u001b[32m━━━━━━━━━━━━━━━━━━━━\u001b[0m\u001b[37m\u001b[0m \u001b[1m0s\u001b[0m 216ms/step - accuracy: 0.9672 - loss: 0.1118\n"
     ]
    }
   ],
   "source": [
    "test_loss , test_accuracy = model.evaluate(test_data)"
   ]
  },
  {
   "cell_type": "code",
   "execution_count": 90,
   "id": "01501f4b-740d-4390-949b-50841c8c39dc",
   "metadata": {},
   "outputs": [
    {
     "name": "stdout",
     "output_type": "stream",
     "text": [
      "Test Loss : 0.11. Test Accuracy: 96.72%\n"
     ]
    }
   ],
   "source": [
    "print('Test Loss : {0:.2f}. Test Accuracy: {1:.2f}%'.format(test_loss , test_accuracy*100))"
   ]
  }
 ],
 "metadata": {
  "kernelspec": {
   "display_name": "Python (tf-env)",
   "language": "python",
   "name": "tf-env"
  },
  "language_info": {
   "codemirror_mode": {
    "name": "ipython",
    "version": 3
   },
   "file_extension": ".py",
   "mimetype": "text/x-python",
   "name": "python",
   "nbconvert_exporter": "python",
   "pygments_lexer": "ipython3",
   "version": "3.10.13"
  }
 },
 "nbformat": 4,
 "nbformat_minor": 5
}
